{
  "nbformat": 4,
  "nbformat_minor": 0,
  "metadata": {
    "accelerator": "GPU",
    "colab": {
      "name": "02_Optimizing_AUROC_with_ResNet20_on_Imbalanced_CIFAR10.ipynb",
      "provenance": [],
      "collapsed_sections": [],
      "toc_visible": true,
      "machine_shape": "hm"
    },
    "kernelspec": {
      "display_name": "Python 3",
      "name": "python3"
    },
    "language_info": {
      "name": "python"
    }
  },
  "cells": [
    {
      "cell_type": "markdown",
      "metadata": {
        "id": "PwsM2ciGpOE7"
      },
      "source": [
        "*   Author: Zhuoning Yuan\n",
        "*   Project: https://github.com/yzhuoning/LibAUC"
      ]
    },
    {
      "cell_type": "markdown",
      "metadata": {
        "id": "kk6-FQcKQOzJ"
      },
      "source": [
        "# **Installing LibAUC**"
      ]
    },
    {
      "cell_type": "code",
      "metadata": {
        "colab": {
          "base_uri": "https://localhost:8080/"
        },
        "id": "D_sahClTabRJ",
        "outputId": "bc424a8d-874d-43f8-e850-b4d68f23dbb2"
      },
      "source": [
        "!pip install libauc"
      ],
      "execution_count": null,
      "outputs": [
        {
          "output_type": "stream",
          "text": [
            "Processing ./libauc-1.0.7-py3-none-any.whl\n",
            "Installing collected packages: libauc\n",
            "Successfully installed libauc-1.0.7\n"
          ],
          "name": "stdout"
        }
      ]
    },
    {
      "cell_type": "markdown",
      "metadata": {
        "id": "TYTvudnlQMEX"
      },
      "source": [
        "# **Importing LibAUC**"
      ]
    },
    {
      "cell_type": "code",
      "metadata": {
        "id": "HBdrV5mOV9ze"
      },
      "source": [
        "from libauc.losses import AUCMLoss\n",
        "from libauc.optimizers import PESG\n",
        "from libauc.models import ResNet20\n",
        "from libauc.datasets import CIFAR10\n",
        "from libauc.datasets import ImbalanceGenerator \n",
        "\n",
        "import torch \n",
        "from PIL import Image\n",
        "import numpy as np\n",
        "import torchvision.transforms as transforms\n",
        "from torch.utils.data import Dataset\n",
        "from sklearn.metrics import roc_auc_score"
      ],
      "execution_count": null,
      "outputs": []
    },
    {
      "cell_type": "markdown",
      "metadata": {
        "id": "es5s_FmjQb3f"
      },
      "source": [
        "# **Reproducibility**"
      ]
    },
    {
      "cell_type": "code",
      "metadata": {
        "id": "lLE8AZOLQWIx"
      },
      "source": [
        "def set_all_seeds(SEED):\n",
        "    # REPRODUCIBILITY\n",
        "    torch.manual_seed(SEED)\n",
        "    np.random.seed(SEED)\n",
        "    torch.backends.cudnn.deterministic = True\n",
        "    torch.backends.cudnn.benchmark = False"
      ],
      "execution_count": null,
      "outputs": []
    },
    {
      "cell_type": "markdown",
      "metadata": {
        "id": "5oK9UxWhQy00"
      },
      "source": [
        "# **Image Dataset**"
      ]
    },
    {
      "cell_type": "code",
      "metadata": {
        "id": "Y7rC7aTuQ2cX"
      },
      "source": [
        "class ImageDataset(Dataset):\n",
        "    def __init__(self, images, targets, image_size=32, crop_size=30, mode='train'):\n",
        "       self.images = images.astype(np.uint8)\n",
        "       self.targets = targets\n",
        "       self.mode = mode\n",
        "       self.transform_train = transforms.Compose([                                                \n",
        "                              transforms.ToTensor(),\n",
        "                              transforms.RandomCrop((crop_size, crop_size), padding=None),\n",
        "                              transforms.RandomHorizontalFlip(),\n",
        "                              transforms.Resize((image_size, image_size)),\n",
        "                              ])\n",
        "       self.transform_test = transforms.Compose([\n",
        "                             transforms.ToTensor(),\n",
        "                             transforms.Resize((image_size, image_size)),\n",
        "                              ])\n",
        "    def __len__(self):\n",
        "        return len(self.images)\n",
        "\n",
        "    def __getitem__(self, idx):\n",
        "        image = self.images[idx]\n",
        "        target = self.targets[idx]\n",
        "        image = Image.fromarray(image.astype('uint8'))\n",
        "        if self.mode == 'train':\n",
        "            image = self.transform_train(image)\n",
        "        else:\n",
        "            image = self.transform_test(image)\n",
        "        return image, target\n",
        "\n"
      ],
      "execution_count": null,
      "outputs": []
    },
    {
      "cell_type": "markdown",
      "metadata": {
        "id": "YjTW36iTQ60Q"
      },
      "source": [
        "# **Paramaters**"
      ]
    },
    {
      "cell_type": "code",
      "metadata": {
        "id": "STRhOR7YQ4_r"
      },
      "source": [
        "# paramaters\n",
        "SEED = 123\n",
        "BATCH_SIZE = 128\n",
        "imratio = 0.1\n",
        "lr = 0.1\n",
        "gamma = 500\n",
        "weight_decay = 1e-4\n",
        "margin = 1.0"
      ],
      "execution_count": null,
      "outputs": []
    },
    {
      "cell_type": "markdown",
      "metadata": {
        "id": "5fgzICg5Q-RE"
      },
      "source": [
        "# **Loading datasets**"
      ]
    },
    {
      "cell_type": "code",
      "metadata": {
        "colab": {
          "base_uri": "https://localhost:8080/"
        },
        "id": "nGbjRYxqQ9sv",
        "outputId": "af4c1d52-e607-47bc-e325-8bbe59166ce0"
      },
      "source": [
        "# dataloader \n",
        "(train_data, train_label), (test_data, test_label) = CIFAR10()\n",
        "(train_images, train_labels) = ImbalanceGenerator(train_data, train_label, imratio=imratio, shuffle=True, random_seed=SEED)\n",
        "(test_images, test_labels) = ImbalanceGenerator(test_data, test_label, is_balanced=True,  random_seed=SEED)\n",
        "\n",
        "trainloader = torch.utils.data.DataLoader(ImageDataset(train_images, train_labels), batch_size=BATCH_SIZE, shuffle=True, num_workers=1, pin_memory=True, drop_last=True)\n",
        "testloader = torch.utils.data.DataLoader( ImageDataset(test_images, test_labels, mode='test'), batch_size=BATCH_SIZE, shuffle=False, num_workers=1,  pin_memory=True)"
      ],
      "execution_count": null,
      "outputs": [
        {
          "output_type": "stream",
          "text": [
            "Downloading data from https://www.cs.toronto.edu/~kriz/cifar-10-python.tar.gz\n",
            "170500096/170498071 [==============================] - 6s 0us/step\n",
            "NUM_SAMPLES: [27777], POS:NEG: [2777 : 25000], POS_RATIO: 0.1000\n",
            "NUM_SAMPLES: [10000], POS:NEG: [5000 : 5000], POS_RATIO: 0.5000\n"
          ],
          "name": "stdout"
        }
      ]
    },
    {
      "cell_type": "markdown",
      "metadata": {
        "id": "_MrH548IRDIc"
      },
      "source": [
        "# **Creating models & AUC Optimizer**"
      ]
    },
    {
      "cell_type": "code",
      "metadata": {
        "id": "cFxB8QblRCt5"
      },
      "source": [
        "# You need to include sigmoid activation in the last layer for any customized models!\n",
        "model = ResNet20(pretrained=False, last_activation='sigmoid', num_classes=1)\n",
        "model = model.cuda()\n",
        "\n",
        "Loss = AUCMLoss(imratio=imratio)\n",
        "optimizer = PESG(model, \n",
        "                 a=Loss.a, \n",
        "                 b=Loss.b, \n",
        "                 alpha=Loss.alpha, \n",
        "                 imratio=imratio, \n",
        "                 lr=lr, \n",
        "                 gamma=gamma, \n",
        "                 margin=margin, \n",
        "                 weight_decay=weight_decay)"
      ],
      "execution_count": null,
      "outputs": []
    },
    {
      "cell_type": "markdown",
      "metadata": {
        "id": "fG5VXXEIRfw3"
      },
      "source": [
        "# **Training**"
      ]
    },
    {
      "cell_type": "code",
      "metadata": {
        "colab": {
          "base_uri": "https://localhost:8080/"
        },
        "id": "H1nk8FK3Qygb",
        "outputId": "01b36528-1102-410f-e35f-46128aa47172"
      },
      "source": [
        "print ('Start Training')\n",
        "print ('-'*30)\n",
        "for epoch in range(100):\n",
        "    \n",
        "     if epoch == 50 or epoch==75:\n",
        "         # decrease learning rate by 10x & update regularizer\n",
        "         optimizer.update_regularizer(decay_factor=10)\n",
        "   \n",
        "     train_pred = []\n",
        "     train_true = []\n",
        "     model.train()    \n",
        "     for data, targets in trainloader:\n",
        "         data, targets  = data.cuda(), targets.cuda()\n",
        "         y_pred = model(data)\n",
        "         loss = Loss(y_pred, targets)\n",
        "         optimizer.zero_grad()\n",
        "         loss.backward()\n",
        "         optimizer.step()\n",
        "        \n",
        "         train_pred.append(y_pred.cpu().detach().numpy())\n",
        "         train_true.append(targets.cpu().detach().numpy())\n",
        "\n",
        "     train_true = np.concatenate(train_true)\n",
        "     train_pred = np.concatenate(train_pred)\n",
        "     train_auc = roc_auc_score(train_true, train_pred) \n",
        "\n",
        "     model.eval()\n",
        "     test_pred = []\n",
        "     test_true = [] \n",
        "     for j, data in enumerate(testloader):\n",
        "         test_data, test_targets = data\n",
        "         test_data = test_data.cuda()\n",
        "         y_pred = model(test_data)\n",
        "         test_pred.append(y_pred.cpu().detach().numpy())\n",
        "         test_true.append(test_targets.numpy())\n",
        "     test_true = np.concatenate(test_true)\n",
        "     test_pred = np.concatenate(test_pred)\n",
        "     val_auc =  roc_auc_score(test_true, test_pred) \n",
        "     model.train()\n",
        "   \n",
        "     # print results\n",
        "     print(\"epoch: {}, train_loss: {:4f}, train_auc:{:4f}, test_auc:{:4f}, lr:{:4f}\".format(epoch, loss.item(), train_auc, val_auc, optimizer.lr ))          "
      ],
      "execution_count": null,
      "outputs": [
        {
          "output_type": "stream",
          "text": [
            "Start Training\n",
            "------------------------------\n",
            "epoch: 0, train_loss: 0.086776, train_auc:0.560098, test_auc:0.598974, lr:0.100000\n",
            "epoch: 1, train_loss: 0.106247, train_auc:0.625222, test_auc:0.678687, lr:0.100000\n",
            "epoch: 2, train_loss: 0.107551, train_auc:0.660384, test_auc:0.680585, lr:0.100000\n",
            "epoch: 3, train_loss: 0.010186, train_auc:0.688838, test_auc:0.694732, lr:0.100000\n",
            "epoch: 4, train_loss: 0.051769, train_auc:0.704555, test_auc:0.726140, lr:0.100000\n",
            "epoch: 5, train_loss: 0.061195, train_auc:0.726613, test_auc:0.706859, lr:0.100000\n",
            "epoch: 6, train_loss: 0.028133, train_auc:0.735329, test_auc:0.717018, lr:0.100000\n",
            "epoch: 7, train_loss: 0.038854, train_auc:0.746941, test_auc:0.703745, lr:0.100000\n",
            "epoch: 8, train_loss: 0.021237, train_auc:0.754446, test_auc:0.751942, lr:0.100000\n",
            "epoch: 9, train_loss: 0.068854, train_auc:0.765974, test_auc:0.764636, lr:0.100000\n",
            "epoch: 10, train_loss: 0.056853, train_auc:0.777042, test_auc:0.743227, lr:0.100000\n",
            "epoch: 11, train_loss: 0.077438, train_auc:0.785204, test_auc:0.785598, lr:0.100000\n",
            "epoch: 12, train_loss: 0.063348, train_auc:0.794750, test_auc:0.674327, lr:0.100000\n",
            "epoch: 13, train_loss: 0.054685, train_auc:0.801124, test_auc:0.741106, lr:0.100000\n",
            "epoch: 14, train_loss: 0.045279, train_auc:0.803736, test_auc:0.787075, lr:0.100000\n",
            "epoch: 15, train_loss: 0.055504, train_auc:0.810312, test_auc:0.781805, lr:0.100000\n",
            "epoch: 16, train_loss: 0.070412, train_auc:0.821316, test_auc:0.796523, lr:0.100000\n",
            "epoch: 17, train_loss: 0.043526, train_auc:0.822708, test_auc:0.807102, lr:0.100000\n",
            "epoch: 18, train_loss: 0.033056, train_auc:0.822030, test_auc:0.751574, lr:0.100000\n",
            "epoch: 19, train_loss: 0.039849, train_auc:0.832025, test_auc:0.737220, lr:0.100000\n",
            "epoch: 20, train_loss: 0.048998, train_auc:0.835978, test_auc:0.753120, lr:0.100000\n",
            "epoch: 21, train_loss: 0.057007, train_auc:0.839907, test_auc:0.778586, lr:0.100000\n",
            "epoch: 22, train_loss: 0.066102, train_auc:0.842042, test_auc:0.803785, lr:0.100000\n",
            "epoch: 23, train_loss: 0.054954, train_auc:0.846453, test_auc:0.804329, lr:0.100000\n",
            "epoch: 24, train_loss: 0.068084, train_auc:0.848700, test_auc:0.837832, lr:0.100000\n",
            "epoch: 25, train_loss: 0.033783, train_auc:0.851384, test_auc:0.801951, lr:0.100000\n",
            "epoch: 26, train_loss: 0.071434, train_auc:0.857627, test_auc:0.755958, lr:0.100000\n",
            "epoch: 27, train_loss: 0.041347, train_auc:0.861240, test_auc:0.812391, lr:0.100000\n",
            "epoch: 28, train_loss: -0.005391, train_auc:0.863874, test_auc:0.817854, lr:0.100000\n",
            "epoch: 29, train_loss: 0.067473, train_auc:0.864038, test_auc:0.831046, lr:0.100000\n",
            "epoch: 30, train_loss: 0.026046, train_auc:0.870214, test_auc:0.798856, lr:0.100000\n",
            "epoch: 31, train_loss: 0.052645, train_auc:0.875513, test_auc:0.815241, lr:0.100000\n",
            "epoch: 32, train_loss: 0.066485, train_auc:0.873571, test_auc:0.817166, lr:0.100000\n",
            "epoch: 33, train_loss: 0.067527, train_auc:0.879899, test_auc:0.799609, lr:0.100000\n",
            "epoch: 34, train_loss: 0.058744, train_auc:0.884359, test_auc:0.780519, lr:0.100000\n",
            "epoch: 35, train_loss: 0.038716, train_auc:0.883917, test_auc:0.843464, lr:0.100000\n",
            "epoch: 36, train_loss: 0.037478, train_auc:0.883882, test_auc:0.828342, lr:0.100000\n",
            "epoch: 37, train_loss: 0.061322, train_auc:0.891034, test_auc:0.868672, lr:0.100000\n",
            "epoch: 38, train_loss: 0.024426, train_auc:0.890211, test_auc:0.800276, lr:0.100000\n",
            "epoch: 39, train_loss: 0.044380, train_auc:0.894083, test_auc:0.838277, lr:0.100000\n",
            "epoch: 40, train_loss: 0.038750, train_auc:0.893501, test_auc:0.863059, lr:0.100000\n",
            "epoch: 41, train_loss: 0.061375, train_auc:0.896079, test_auc:0.843537, lr:0.100000\n",
            "epoch: 42, train_loss: -0.006682, train_auc:0.899427, test_auc:0.858901, lr:0.100000\n",
            "epoch: 43, train_loss: 0.070853, train_auc:0.898971, test_auc:0.847088, lr:0.100000\n",
            "epoch: 44, train_loss: 0.041213, train_auc:0.897128, test_auc:0.836872, lr:0.100000\n",
            "epoch: 45, train_loss: 0.051885, train_auc:0.896798, test_auc:0.813906, lr:0.100000\n",
            "epoch: 46, train_loss: 0.030651, train_auc:0.897905, test_auc:0.821073, lr:0.100000\n",
            "epoch: 47, train_loss: 0.037167, train_auc:0.900907, test_auc:0.867076, lr:0.100000\n",
            "epoch: 48, train_loss: 0.031332, train_auc:0.905535, test_auc:0.848560, lr:0.100000\n",
            "epoch: 49, train_loss: 0.039483, train_auc:0.908390, test_auc:0.813896, lr:0.100000\n",
            "Reducing learning rate to 0.01000 @ T=10850!\n",
            "Updating regularizer @ T=10850!\n",
            "epoch: 50, train_loss: 0.013482, train_auc:0.935274, test_auc:0.887755, lr:0.010000\n",
            "epoch: 51, train_loss: -0.003766, train_auc:0.946525, test_auc:0.892928, lr:0.010000\n",
            "epoch: 52, train_loss: 0.021759, train_auc:0.949413, test_auc:0.890638, lr:0.010000\n",
            "epoch: 53, train_loss: 0.026431, train_auc:0.952434, test_auc:0.899414, lr:0.010000\n",
            "epoch: 54, train_loss: 0.019969, train_auc:0.956260, test_auc:0.898187, lr:0.010000\n",
            "epoch: 55, train_loss: 0.011697, train_auc:0.956436, test_auc:0.885832, lr:0.010000\n",
            "epoch: 56, train_loss: 0.003584, train_auc:0.956842, test_auc:0.892544, lr:0.010000\n",
            "epoch: 57, train_loss: 0.005505, train_auc:0.959248, test_auc:0.897296, lr:0.010000\n",
            "epoch: 58, train_loss: 0.034921, train_auc:0.961395, test_auc:0.893991, lr:0.010000\n",
            "epoch: 59, train_loss: 0.029017, train_auc:0.960390, test_auc:0.895540, lr:0.010000\n",
            "epoch: 60, train_loss: 0.016335, train_auc:0.960804, test_auc:0.896546, lr:0.010000\n",
            "epoch: 61, train_loss: 0.017581, train_auc:0.962404, test_auc:0.895404, lr:0.010000\n",
            "epoch: 62, train_loss: 0.009010, train_auc:0.963973, test_auc:0.900051, lr:0.010000\n",
            "epoch: 63, train_loss: 0.030146, train_auc:0.965138, test_auc:0.896140, lr:0.010000\n",
            "epoch: 64, train_loss: 0.006439, train_auc:0.965296, test_auc:0.897062, lr:0.010000\n",
            "epoch: 65, train_loss: 0.008090, train_auc:0.966516, test_auc:0.896532, lr:0.010000\n",
            "epoch: 66, train_loss: 0.030659, train_auc:0.967226, test_auc:0.896920, lr:0.010000\n",
            "epoch: 67, train_loss: 0.049547, train_auc:0.968298, test_auc:0.895665, lr:0.010000\n",
            "epoch: 68, train_loss: -0.001633, train_auc:0.967893, test_auc:0.891222, lr:0.010000\n",
            "epoch: 69, train_loss: 0.004434, train_auc:0.969416, test_auc:0.896146, lr:0.010000\n",
            "epoch: 70, train_loss: 0.012245, train_auc:0.970310, test_auc:0.893983, lr:0.010000\n"
          ],
          "name": "stdout"
        }
      ]
    }
  ]
}
