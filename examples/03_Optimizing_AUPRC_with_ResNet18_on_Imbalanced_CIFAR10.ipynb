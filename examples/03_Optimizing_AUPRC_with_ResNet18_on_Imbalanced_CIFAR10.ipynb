{
  "nbformat": 4,
  "nbformat_minor": 0,
  "metadata": {
    "accelerator": "GPU",
    "colab": {
      "name": "03_Optimizing_AUPRC_with_ResNet18_on_Imbalanced_CIFAR10.ipynb",
      "provenance": [],
      "collapsed_sections": []
    },
    "kernelspec": {
      "display_name": "Python 3",
      "name": "python3"
    },
    "language_info": {
      "name": "python"
    }
  },
  "cells": [
    {
      "cell_type": "markdown",
      "metadata": {
        "id": "BPfAfYgpobNo"
      },
      "source": [
        "*   Author: Zhuoning Yuan, Qi Qi\n",
        "*   Project: https://github.com/yzhuoning/LibAUC\n",
        "\n"
      ]
    },
    {
      "cell_type": "markdown",
      "metadata": {
        "id": "UwnB4qhzRo-U"
      },
      "source": [
        "# **Installing LibAUC**"
      ]
    },
    {
      "cell_type": "code",
      "metadata": {
        "id": "lw6cuynswP_w"
      },
      "source": [
        "!pip install libauc-1.1.5-py3-none-any.whl"
      ],
      "execution_count": 1,
      "outputs": []
    },
    {
      "cell_type": "markdown",
      "metadata": {
        "id": "-_qWCXSTRvIK"
      },
      "source": [
        "\n",
        "# **Importing LibAUC**"
      ]
    },
    {
      "cell_type": "code",
      "metadata": {
        "id": "fvcM8kpziqv4"
      },
      "source": [
        "from libauc.losses import APLoss_SH\n",
        "from libauc.optimizers import SOAP_SGD, SOAP_ADAM\n",
        "from libauc.models import ResNet18\n",
        "from libauc.datasets import CIFAR10\n",
        "from libauc.datasets import ImbalanceGenerator, ImbalanceSampler \n",
        "\n",
        "import torchvision.transforms as transforms\n",
        "from torch.utils.data import Dataset\n",
        "from sklearn.metrics import roc_auc_score\n",
        "from sklearn.metrics import average_precision_score\n",
        "import numpy as np\n",
        "import torch\n",
        "from PIL import Image\n"
      ],
      "execution_count": 2,
      "outputs": []
    },
    {
      "cell_type": "markdown",
      "metadata": {
        "id": "4N286JDgSIy4"
      },
      "source": [
        "# **Reproducibility**"
      ]
    },
    {
      "cell_type": "code",
      "metadata": {
        "id": "Y8GXbHx1SLfy"
      },
      "source": [
        "def set_all_seeds(SEED):\n",
        "    # REPRODUCIBILITY\n",
        "    torch.manual_seed(SEED)\n",
        "    np.random.seed(SEED)\n",
        "    torch.backends.cudnn.deterministic = True\n",
        "    torch.backends.cudnn.benchmark = False"
      ],
      "execution_count": 3,
      "outputs": []
    },
    {
      "cell_type": "markdown",
      "metadata": {
        "id": "oE-hFHH1SNuu"
      },
      "source": [
        "# **Image Dataset**"
      ]
    },
    {
      "cell_type": "code",
      "metadata": {
        "id": "Hg85RS7_woYS"
      },
      "source": [
        "class ImageDataset(Dataset):\n",
        "    def __init__(self, images, targets, image_size=32, crop_size=30, mode='train'):\n",
        "       self.images = images.astype(np.uint8)\n",
        "       self.targets = targets\n",
        "       self.mode = mode\n",
        "       self.transform_train = transforms.Compose([                                                \n",
        "                              transforms.RandomCrop(image_size, padding=4),\n",
        "                              transforms.RandomHorizontalFlip(),\n",
        "                              transforms.ToTensor(),\n",
        "                              transforms.Normalize((0.4914, 0.4822, 0.4465), (0.2023, 0.1994, 0.2010)),\n",
        "                              \n",
        "                              ])\n",
        "       self.transform_test = transforms.Compose([\n",
        "                              transforms.ToTensor(),\n",
        "                              transforms.Normalize((0.4914, 0.4822, 0.4465), (0.2023, 0.1994, 0.2010)),\n",
        "                              ])\n",
        "    def __len__(self):\n",
        "        return len(self.images)\n",
        "\n",
        "    def __getitem__(self, idx):\n",
        "        image = self.images[idx]\n",
        "        target = self.targets[idx]\n",
        "        image = Image.fromarray(image.astype('uint8'))\n",
        "        if self.mode == 'train':\n",
        "            image = self.transform_train(image)\n",
        "        else:\n",
        "            image = self.transform_test(image)\n",
        "        return idx, image, target\n"
      ],
      "execution_count": 4,
      "outputs": []
    },
    {
      "cell_type": "markdown",
      "metadata": {
        "id": "iEVuk9mWSWgE"
      },
      "source": [
        "# **Paramaters**"
      ]
    },
    {
      "cell_type": "code",
      "metadata": {
        "id": "v6Wn9WTGSdmD"
      },
      "source": [
        "# paramaters\n",
        "imratio = 0.02\n",
        "SEED = 123\n",
        "BATCH_SIZE = 64\n",
        "lr =  1e-6\n",
        "weight_decay = 2e-4\n",
        "margin = 0.6\n",
        "beta = 0.99 # this refers to gamma for moving average in the paper\n",
        "posNum = 1"
      ],
      "execution_count": 13,
      "outputs": []
    },
    {
      "cell_type": "markdown",
      "metadata": {
        "id": "jk5TQ6QMSZ_Z"
      },
      "source": [
        "# **Loading datasets**"
      ]
    },
    {
      "cell_type": "code",
      "metadata": {
        "colab": {
          "base_uri": "https://localhost:8080/"
        },
        "id": "tsp3lUzXShgI",
        "outputId": "38e80fb6-2f82-4dbc-caef-5c827e2d0aad"
      },
      "source": [
        "# dataloader \n",
        "(train_data, train_label), (test_data, test_label) = CIFAR10()\n",
        "(train_images, train_labels) = ImbalanceGenerator(train_data, train_label, imratio=imratio, shuffle=True, random_seed=SEED)\n",
        "(test_images, test_labels) = ImbalanceGenerator(test_data, test_label, is_balanced=True,  random_seed=SEED)\n",
        "\n",
        "train_dataset = ImageDataset(train_images, train_labels)\n",
        "test_dataset = ImageDataset(test_images, test_labels, mode='test')\n",
        "testloader = torch.utils.data.DataLoader(test_dataset , batch_size=BATCH_SIZE, shuffle=False, num_workers=1,  pin_memory=True)"
      ],
      "execution_count": 14,
      "outputs": [
        {
          "output_type": "stream",
          "name": "stdout",
          "text": [
            "NUM_SAMPLES: [25510], POS:NEG: [510 : 25000], POS_RATIO: 0.0200\n",
            "NUM_SAMPLES: [10000], POS:NEG: [5000 : 5000], POS_RATIO: 0.5000\n"
          ]
        }
      ]
    },
    {
      "cell_type": "markdown",
      "metadata": {
        "id": "QyXxZxRvSjOO"
      },
      "source": [
        "# **Creating models & AUC Optimizer**"
      ]
    },
    {
      "cell_type": "code",
      "metadata": {
        "id": "KC4ihPQASmSY"
      },
      "source": [
        "set_all_seeds(456)\n",
        "model = ResNet18(pretrained=False, last_activation=None) \n",
        "model = model.cuda()\n",
        "\n",
        "# load ce pretrained model & remove final fc layers\n",
        "PATH = 'cifar10_resnet18_002.ckpt' \n",
        "state_dict = torch.load(PATH)\n",
        "state_dict.pop('fc.weights', None)\n",
        "state_dict.pop('fc.bias', None)\n",
        "model.load_state_dict(state_dict['model'], strict=True)\n",
        "\n",
        "# SOAPLoss requires ImbalanceSampler() with pos_num>=1!\n",
        "Loss = APLoss_SH(margin=margin, beta=beta, data_len=train_labels.shape[0])\n",
        "optimizer = SOAP_SGD(model.parameters(), lr=lr, weight_decay=weight_decay)"
      ],
      "execution_count": 15,
      "outputs": []
    },
    {
      "cell_type": "markdown",
      "metadata": {
        "id": "5G0nJp7NS4Ne"
      },
      "source": [
        "# **Training**"
      ]
    },
    {
      "cell_type": "code",
      "metadata": {
        "colab": {
          "base_uri": "https://localhost:8080/"
        },
        "id": "64xZXszhwqmK",
        "outputId": "ca48623a-912a-4a2d-9227-cfcf8620457b"
      },
      "source": [
        "# training \n",
        "model.train()\n",
        "losses = []  \n",
        "print ('-'*30)\n",
        "total_iters = 0\n",
        "for epoch in range(64):\n",
        "    if epoch == 32:\n",
        "       optimizer.param_groups[0]['lr'] = optimizer.param_groups[0]['lr']/10\n",
        "    \n",
        "    train_pred = []\n",
        "    train_true = []\n",
        "    model.train() \n",
        "       \n",
        "    trainloader = torch.utils.data.DataLoader(train_dataset, batch_size=BATCH_SIZE, sampler=ImbalanceSampler(train_labels.flatten().astype(int), BATCH_SIZE, pos_num=posNum), num_workers=2, pin_memory=True, drop_last=True) \n",
        "    for idx, (index, data, targets) in enumerate(trainloader):\n",
        "        data, targets  = data.cuda(), targets.cuda()\n",
        "        y_pred = model(data)\n",
        "        y_prob = torch.sigmoid(y_pred)\n",
        "        loss = Loss(y_prob, targets, index_s=index)\n",
        "        optimizer.zero_grad()\n",
        "        loss.backward()\n",
        "        optimizer.step()\n",
        "        train_pred.append(y_prob.cpu().detach().numpy())\n",
        "        train_true.append(targets.cpu().detach().numpy())\n",
        "\n",
        "    train_true = np.concatenate(train_true)\n",
        "    train_pred = np.concatenate(train_pred)\n",
        "    train_auc = roc_auc_score(train_true, train_pred) \n",
        "    train_prc = average_precision_score(train_true, train_pred)\n",
        "\n",
        "    model.eval()\n",
        "    test_pred = []\n",
        "    test_true = [] \n",
        "    for j, data in enumerate(testloader):\n",
        "        _, test_data, test_targets = data\n",
        "        test_data = test_data.cuda()\n",
        "        y_pred = model(test_data)\n",
        "        y_prob = torch.sigmoid(y_pred)\n",
        "        test_pred.append(y_prob.cpu().detach().numpy())\n",
        "        test_true.append(test_targets.numpy())\n",
        "    test_true = np.concatenate(test_true)\n",
        "    test_pred = np.concatenate(test_pred)\n",
        "     \n",
        "    val_auc =  roc_auc_score(test_true, test_pred) \n",
        "    val_prc = average_precision_score(test_true, test_pred)\n",
        "    \n",
        "    model.train()\n",
        "    print(\"epoch: {}, train_ap:{:4f}, test_ap:{:4f},  lr:{:4f}\".format(epoch, train_prc, val_prc,  optimizer.param_groups[0]['lr'] ))\n",
        "    "
      ],
      "execution_count": 16,
      "outputs": [
        {
          "output_type": "stream",
          "name": "stdout",
          "text": [
            "------------------------------\n",
            "epoch: 0, train_ap:0.038561, test_ap:0.684382,  lr:0.000001\n",
            "epoch: 1, train_ap:0.037349, test_ap:0.687822,  lr:0.000001\n",
            "epoch: 2, train_ap:0.038272, test_ap:0.697211,  lr:0.000001\n",
            "epoch: 3, train_ap:0.052288, test_ap:0.697083,  lr:0.000001\n",
            "epoch: 4, train_ap:0.048474, test_ap:0.707550,  lr:0.000001\n",
            "epoch: 5, train_ap:0.055943, test_ap:0.706793,  lr:0.000001\n",
            "epoch: 6, train_ap:0.047432, test_ap:0.717946,  lr:0.000001\n",
            "epoch: 7, train_ap:0.046604, test_ap:0.705159,  lr:0.000001\n",
            "epoch: 8, train_ap:0.052999, test_ap:0.708554,  lr:0.000001\n",
            "epoch: 9, train_ap:0.078836, test_ap:0.731893,  lr:0.000001\n",
            "epoch: 10, train_ap:0.071232, test_ap:0.704826,  lr:0.000001\n",
            "epoch: 11, train_ap:0.062467, test_ap:0.705674,  lr:0.000001\n",
            "epoch: 12, train_ap:0.058837, test_ap:0.713067,  lr:0.000001\n",
            "epoch: 13, train_ap:0.078756, test_ap:0.730586,  lr:0.000001\n",
            "epoch: 14, train_ap:0.082710, test_ap:0.704639,  lr:0.000001\n",
            "epoch: 15, train_ap:0.093598, test_ap:0.700707,  lr:0.000001\n",
            "epoch: 16, train_ap:0.080030, test_ap:0.722588,  lr:0.000001\n",
            "epoch: 17, train_ap:0.091095, test_ap:0.731973,  lr:0.000001\n",
            "epoch: 18, train_ap:0.103952, test_ap:0.736192,  lr:0.000001\n",
            "epoch: 19, train_ap:0.072569, test_ap:0.731805,  lr:0.000001\n",
            "epoch: 20, train_ap:0.063345, test_ap:0.701709,  lr:0.000001\n",
            "epoch: 21, train_ap:0.086811, test_ap:0.744545,  lr:0.000001\n",
            "epoch: 22, train_ap:0.086059, test_ap:0.741576,  lr:0.000001\n",
            "epoch: 23, train_ap:0.099991, test_ap:0.744156,  lr:0.000001\n",
            "epoch: 24, train_ap:0.082923, test_ap:0.729895,  lr:0.000001\n",
            "epoch: 25, train_ap:0.099438, test_ap:0.732404,  lr:0.000001\n",
            "epoch: 26, train_ap:0.095937, test_ap:0.750349,  lr:0.000001\n",
            "epoch: 27, train_ap:0.094080, test_ap:0.734972,  lr:0.000001\n",
            "epoch: 28, train_ap:0.105634, test_ap:0.732260,  lr:0.000001\n",
            "epoch: 29, train_ap:0.112755, test_ap:0.744211,  lr:0.000001\n",
            "epoch: 30, train_ap:0.090083, test_ap:0.722940,  lr:0.000001\n",
            "epoch: 31, train_ap:0.109454, test_ap:0.711729,  lr:0.000001\n",
            "epoch: 32, train_ap:0.088355, test_ap:0.727439,  lr:0.000000\n",
            "epoch: 33, train_ap:0.109187, test_ap:0.732143,  lr:0.000000\n",
            "epoch: 34, train_ap:0.128522, test_ap:0.735420,  lr:0.000000\n",
            "epoch: 35, train_ap:0.140531, test_ap:0.737764,  lr:0.000000\n",
            "epoch: 36, train_ap:0.170448, test_ap:0.742235,  lr:0.000000\n",
            "epoch: 37, train_ap:0.158094, test_ap:0.746577,  lr:0.000000\n",
            "epoch: 38, train_ap:0.172453, test_ap:0.746582,  lr:0.000000\n",
            "epoch: 39, train_ap:0.178486, test_ap:0.747522,  lr:0.000000\n",
            "epoch: 40, train_ap:0.181906, test_ap:0.748066,  lr:0.000000\n",
            "epoch: 41, train_ap:0.156585, test_ap:0.747440,  lr:0.000000\n",
            "epoch: 42, train_ap:0.181849, test_ap:0.750026,  lr:0.000000\n",
            "epoch: 43, train_ap:0.175010, test_ap:0.753619,  lr:0.000000\n",
            "epoch: 44, train_ap:0.159175, test_ap:0.756753,  lr:0.000000\n",
            "epoch: 45, train_ap:0.172479, test_ap:0.755739,  lr:0.000000\n",
            "epoch: 46, train_ap:0.172687, test_ap:0.755840,  lr:0.000000\n",
            "epoch: 47, train_ap:0.208611, test_ap:0.756618,  lr:0.000000\n",
            "epoch: 48, train_ap:0.180410, test_ap:0.758959,  lr:0.000000\n",
            "epoch: 49, train_ap:0.215690, test_ap:0.758238,  lr:0.000000\n",
            "epoch: 50, train_ap:0.217728, test_ap:0.757049,  lr:0.000000\n",
            "epoch: 51, train_ap:0.191940, test_ap:0.760413,  lr:0.000000\n",
            "epoch: 52, train_ap:0.189802, test_ap:0.760423,  lr:0.000000\n",
            "epoch: 53, train_ap:0.207775, test_ap:0.760562,  lr:0.000000\n",
            "epoch: 54, train_ap:0.216864, test_ap:0.760477,  lr:0.000000\n",
            "epoch: 55, train_ap:0.202186, test_ap:0.760336,  lr:0.000000\n",
            "epoch: 56, train_ap:0.206849, test_ap:0.761347,  lr:0.000000\n",
            "epoch: 57, train_ap:0.215279, test_ap:0.762208,  lr:0.000000\n",
            "epoch: 58, train_ap:0.216033, test_ap:0.763511,  lr:0.000000\n",
            "epoch: 59, train_ap:0.196003, test_ap:0.762565,  lr:0.000000\n",
            "epoch: 60, train_ap:0.236594, test_ap:0.761383,  lr:0.000000\n",
            "epoch: 61, train_ap:0.241174, test_ap:0.763065,  lr:0.000000\n",
            "epoch: 62, train_ap:0.216782, test_ap:0.763362,  lr:0.000000\n",
            "epoch: 63, train_ap:0.222425, test_ap:0.764436,  lr:0.000000\n"
          ]
        }
      ]
    }
  ]
}